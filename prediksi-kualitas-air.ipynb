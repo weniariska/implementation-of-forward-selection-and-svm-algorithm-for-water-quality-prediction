{
  "nbformat": 4,
  "nbformat_minor": 0,
  "metadata": {
    "colab": {
      "name": "MacLe_SC Project Akhir.ipynb",
      "provenance": [],
      "collapsed_sections": []
    },
    "kernelspec": {
      "name": "python3",
      "display_name": "Python 3"
    },
    "language_info": {
      "name": "python"
    }
  },
  "cells": [
    {
      "cell_type": "markdown",
      "source": [
        "##Link Dataset : https://www.kaggle.com/datasets/adityakadiwal/water-potability\n",
        "##Kelas : C\n",
        "##Kelompok : The Sukses\n",
        "##1810511028 Albert Christian\n",
        "##1910511002 Siti Khaalishah S\n",
        "##1910511006 Fitria Adyati M\n",
        "##1910511026 Weni Ariska\n",
        "##1910511080 Hanif Radityo\n"
      ],
      "metadata": {
        "id": "iXG-wz8nL5Lr"
      }
    },
    {
      "cell_type": "code",
      "execution_count": null,
      "metadata": {
        "colab": {
          "base_uri": "https://localhost:8080/",
          "height": 270
        },
        "id": "4unZIx3A3rtP",
        "outputId": "dad76297-4c50-4310-ce35-1d70c608c086"
      },
      "outputs": [
        {
          "output_type": "execute_result",
          "data": {
            "text/plain": [
              "         ph    Hardness        Solids  Chloramines     Sulfate  Conductivity  \\\n",
              "0       NaN  204.890455  20791.318981     7.300212  368.516441    564.308654   \n",
              "1  3.716080  129.422921  18630.057858     6.635246         NaN    592.885359   \n",
              "2  8.099124  224.236259  19909.541732     9.275884         NaN    418.606213   \n",
              "3  8.316766  214.373394  22018.417441     8.059332  356.886136    363.266516   \n",
              "4  9.092223  181.101509  17978.986339     6.546600  310.135738    398.410813   \n",
              "\n",
              "   Organic_carbon  Trihalomethanes  Turbidity  Potability  \n",
              "0       10.379783        86.990970   2.963135           0  \n",
              "1       15.180013        56.329076   4.500656           0  \n",
              "2       16.868637        66.420093   3.055934           0  \n",
              "3       18.436524       100.341674   4.628771           0  \n",
              "4       11.558279        31.997993   4.075075           0  "
            ],
            "text/html": [
              "\n",
              "  <div id=\"df-d440c320-12af-419a-a5f3-c3bf6655d3c1\">\n",
              "    <div class=\"colab-df-container\">\n",
              "      <div>\n",
              "<style scoped>\n",
              "    .dataframe tbody tr th:only-of-type {\n",
              "        vertical-align: middle;\n",
              "    }\n",
              "\n",
              "    .dataframe tbody tr th {\n",
              "        vertical-align: top;\n",
              "    }\n",
              "\n",
              "    .dataframe thead th {\n",
              "        text-align: right;\n",
              "    }\n",
              "</style>\n",
              "<table border=\"1\" class=\"dataframe\">\n",
              "  <thead>\n",
              "    <tr style=\"text-align: right;\">\n",
              "      <th></th>\n",
              "      <th>ph</th>\n",
              "      <th>Hardness</th>\n",
              "      <th>Solids</th>\n",
              "      <th>Chloramines</th>\n",
              "      <th>Sulfate</th>\n",
              "      <th>Conductivity</th>\n",
              "      <th>Organic_carbon</th>\n",
              "      <th>Trihalomethanes</th>\n",
              "      <th>Turbidity</th>\n",
              "      <th>Potability</th>\n",
              "    </tr>\n",
              "  </thead>\n",
              "  <tbody>\n",
              "    <tr>\n",
              "      <th>0</th>\n",
              "      <td>NaN</td>\n",
              "      <td>204.890455</td>\n",
              "      <td>20791.318981</td>\n",
              "      <td>7.300212</td>\n",
              "      <td>368.516441</td>\n",
              "      <td>564.308654</td>\n",
              "      <td>10.379783</td>\n",
              "      <td>86.990970</td>\n",
              "      <td>2.963135</td>\n",
              "      <td>0</td>\n",
              "    </tr>\n",
              "    <tr>\n",
              "      <th>1</th>\n",
              "      <td>3.716080</td>\n",
              "      <td>129.422921</td>\n",
              "      <td>18630.057858</td>\n",
              "      <td>6.635246</td>\n",
              "      <td>NaN</td>\n",
              "      <td>592.885359</td>\n",
              "      <td>15.180013</td>\n",
              "      <td>56.329076</td>\n",
              "      <td>4.500656</td>\n",
              "      <td>0</td>\n",
              "    </tr>\n",
              "    <tr>\n",
              "      <th>2</th>\n",
              "      <td>8.099124</td>\n",
              "      <td>224.236259</td>\n",
              "      <td>19909.541732</td>\n",
              "      <td>9.275884</td>\n",
              "      <td>NaN</td>\n",
              "      <td>418.606213</td>\n",
              "      <td>16.868637</td>\n",
              "      <td>66.420093</td>\n",
              "      <td>3.055934</td>\n",
              "      <td>0</td>\n",
              "    </tr>\n",
              "    <tr>\n",
              "      <th>3</th>\n",
              "      <td>8.316766</td>\n",
              "      <td>214.373394</td>\n",
              "      <td>22018.417441</td>\n",
              "      <td>8.059332</td>\n",
              "      <td>356.886136</td>\n",
              "      <td>363.266516</td>\n",
              "      <td>18.436524</td>\n",
              "      <td>100.341674</td>\n",
              "      <td>4.628771</td>\n",
              "      <td>0</td>\n",
              "    </tr>\n",
              "    <tr>\n",
              "      <th>4</th>\n",
              "      <td>9.092223</td>\n",
              "      <td>181.101509</td>\n",
              "      <td>17978.986339</td>\n",
              "      <td>6.546600</td>\n",
              "      <td>310.135738</td>\n",
              "      <td>398.410813</td>\n",
              "      <td>11.558279</td>\n",
              "      <td>31.997993</td>\n",
              "      <td>4.075075</td>\n",
              "      <td>0</td>\n",
              "    </tr>\n",
              "  </tbody>\n",
              "</table>\n",
              "</div>\n",
              "      <button class=\"colab-df-convert\" onclick=\"convertToInteractive('df-d440c320-12af-419a-a5f3-c3bf6655d3c1')\"\n",
              "              title=\"Convert this dataframe to an interactive table.\"\n",
              "              style=\"display:none;\">\n",
              "        \n",
              "  <svg xmlns=\"http://www.w3.org/2000/svg\" height=\"24px\"viewBox=\"0 0 24 24\"\n",
              "       width=\"24px\">\n",
              "    <path d=\"M0 0h24v24H0V0z\" fill=\"none\"/>\n",
              "    <path d=\"M18.56 5.44l.94 2.06.94-2.06 2.06-.94-2.06-.94-.94-2.06-.94 2.06-2.06.94zm-11 1L8.5 8.5l.94-2.06 2.06-.94-2.06-.94L8.5 2.5l-.94 2.06-2.06.94zm10 10l.94 2.06.94-2.06 2.06-.94-2.06-.94-.94-2.06-.94 2.06-2.06.94z\"/><path d=\"M17.41 7.96l-1.37-1.37c-.4-.4-.92-.59-1.43-.59-.52 0-1.04.2-1.43.59L10.3 9.45l-7.72 7.72c-.78.78-.78 2.05 0 2.83L4 21.41c.39.39.9.59 1.41.59.51 0 1.02-.2 1.41-.59l7.78-7.78 2.81-2.81c.8-.78.8-2.07 0-2.86zM5.41 20L4 18.59l7.72-7.72 1.47 1.35L5.41 20z\"/>\n",
              "  </svg>\n",
              "      </button>\n",
              "      \n",
              "  <style>\n",
              "    .colab-df-container {\n",
              "      display:flex;\n",
              "      flex-wrap:wrap;\n",
              "      gap: 12px;\n",
              "    }\n",
              "\n",
              "    .colab-df-convert {\n",
              "      background-color: #E8F0FE;\n",
              "      border: none;\n",
              "      border-radius: 50%;\n",
              "      cursor: pointer;\n",
              "      display: none;\n",
              "      fill: #1967D2;\n",
              "      height: 32px;\n",
              "      padding: 0 0 0 0;\n",
              "      width: 32px;\n",
              "    }\n",
              "\n",
              "    .colab-df-convert:hover {\n",
              "      background-color: #E2EBFA;\n",
              "      box-shadow: 0px 1px 2px rgba(60, 64, 67, 0.3), 0px 1px 3px 1px rgba(60, 64, 67, 0.15);\n",
              "      fill: #174EA6;\n",
              "    }\n",
              "\n",
              "    [theme=dark] .colab-df-convert {\n",
              "      background-color: #3B4455;\n",
              "      fill: #D2E3FC;\n",
              "    }\n",
              "\n",
              "    [theme=dark] .colab-df-convert:hover {\n",
              "      background-color: #434B5C;\n",
              "      box-shadow: 0px 1px 3px 1px rgba(0, 0, 0, 0.15);\n",
              "      filter: drop-shadow(0px 1px 2px rgba(0, 0, 0, 0.3));\n",
              "      fill: #FFFFFF;\n",
              "    }\n",
              "  </style>\n",
              "\n",
              "      <script>\n",
              "        const buttonEl =\n",
              "          document.querySelector('#df-d440c320-12af-419a-a5f3-c3bf6655d3c1 button.colab-df-convert');\n",
              "        buttonEl.style.display =\n",
              "          google.colab.kernel.accessAllowed ? 'block' : 'none';\n",
              "\n",
              "        async function convertToInteractive(key) {\n",
              "          const element = document.querySelector('#df-d440c320-12af-419a-a5f3-c3bf6655d3c1');\n",
              "          const dataTable =\n",
              "            await google.colab.kernel.invokeFunction('convertToInteractive',\n",
              "                                                     [key], {});\n",
              "          if (!dataTable) return;\n",
              "\n",
              "          const docLinkHtml = 'Like what you see? Visit the ' +\n",
              "            '<a target=\"_blank\" href=https://colab.research.google.com/notebooks/data_table.ipynb>data table notebook</a>'\n",
              "            + ' to learn more about interactive tables.';\n",
              "          element.innerHTML = '';\n",
              "          dataTable['output_type'] = 'display_data';\n",
              "          await google.colab.output.renderOutput(dataTable, element);\n",
              "          const docLink = document.createElement('div');\n",
              "          docLink.innerHTML = docLinkHtml;\n",
              "          element.appendChild(docLink);\n",
              "        }\n",
              "      </script>\n",
              "    </div>\n",
              "  </div>\n",
              "  "
            ]
          },
          "metadata": {},
          "execution_count": 1
        }
      ],
      "source": [
        "# import library\n",
        "import pandas as pd\n",
        "import time\n",
        "\n",
        "# read data\n",
        "df = pd.read_csv(\"water_potability.csv\")\n",
        "df.head()"
      ]
    },
    {
      "cell_type": "code",
      "source": [
        "# missing value\n",
        "\n",
        "# baca data\n",
        "print(df.isnull().sum())\n",
        "\n",
        "import numpy as np\n",
        "avg_ph = df[\"ph\"].astype(\"float\").mean(axis=0)\n",
        "df[\"ph\"].replace(np.nan, avg_ph, inplace=True)\n",
        "\n",
        "avg_sulfate = df[\"Sulfate\"].astype(\"float\").mean(axis=0)\n",
        "df[\"Sulfate\"].replace(np.nan, avg_sulfate, inplace=True)\n",
        "\n",
        "avg_trihalo = df[\"Trihalomethanes\"].astype(\"float\").mean(axis=0)\n",
        "df[\"Trihalomethanes\"].replace(np.nan, avg_trihalo, inplace=True)\n",
        "\n",
        "print(df.isnull().sum())"
      ],
      "metadata": {
        "colab": {
          "base_uri": "https://localhost:8080/"
        },
        "id": "j5EmOI4z3w3R",
        "outputId": "c6ced262-e42e-4858-a692-0c24b1ff41cf"
      },
      "execution_count": null,
      "outputs": [
        {
          "output_type": "stream",
          "name": "stdout",
          "text": [
            "ph                 491\n",
            "Hardness             0\n",
            "Solids               0\n",
            "Chloramines          0\n",
            "Sulfate            781\n",
            "Conductivity         0\n",
            "Organic_carbon       0\n",
            "Trihalomethanes    162\n",
            "Turbidity            0\n",
            "Potability           0\n",
            "dtype: int64\n",
            "ph                 0\n",
            "Hardness           0\n",
            "Solids             0\n",
            "Chloramines        0\n",
            "Sulfate            0\n",
            "Conductivity       0\n",
            "Organic_carbon     0\n",
            "Trihalomethanes    0\n",
            "Turbidity          0\n",
            "Potability         0\n",
            "dtype: int64\n"
          ]
        }
      ]
    },
    {
      "cell_type": "markdown",
      "source": [
        "CEK BALANCED DATA"
      ],
      "metadata": {
        "id": "nT7psgoL36mZ"
      }
    },
    {
      "cell_type": "code",
      "source": [
        "df.groupby('Potability').count()"
      ],
      "metadata": {
        "colab": {
          "base_uri": "https://localhost:8080/",
          "height": 143
        },
        "id": "sw9Sl2dV39FQ",
        "outputId": "69c3bebe-7c6c-4dca-f8fc-28304b5dd79d"
      },
      "execution_count": null,
      "outputs": [
        {
          "output_type": "execute_result",
          "data": {
            "text/plain": [
              "              ph  Hardness  Solids  Chloramines  Sulfate  Conductivity  \\\n",
              "Potability                                                               \n",
              "0           1998      1998    1998         1998     1998          1998   \n",
              "1           1278      1278    1278         1278     1278          1278   \n",
              "\n",
              "            Organic_carbon  Trihalomethanes  Turbidity  \n",
              "Potability                                              \n",
              "0                     1998             1998       1998  \n",
              "1                     1278             1278       1278  "
            ],
            "text/html": [
              "\n",
              "  <div id=\"df-0b2f0578-e264-44d3-a0d7-10fbf7c1d02f\">\n",
              "    <div class=\"colab-df-container\">\n",
              "      <div>\n",
              "<style scoped>\n",
              "    .dataframe tbody tr th:only-of-type {\n",
              "        vertical-align: middle;\n",
              "    }\n",
              "\n",
              "    .dataframe tbody tr th {\n",
              "        vertical-align: top;\n",
              "    }\n",
              "\n",
              "    .dataframe thead th {\n",
              "        text-align: right;\n",
              "    }\n",
              "</style>\n",
              "<table border=\"1\" class=\"dataframe\">\n",
              "  <thead>\n",
              "    <tr style=\"text-align: right;\">\n",
              "      <th></th>\n",
              "      <th>ph</th>\n",
              "      <th>Hardness</th>\n",
              "      <th>Solids</th>\n",
              "      <th>Chloramines</th>\n",
              "      <th>Sulfate</th>\n",
              "      <th>Conductivity</th>\n",
              "      <th>Organic_carbon</th>\n",
              "      <th>Trihalomethanes</th>\n",
              "      <th>Turbidity</th>\n",
              "    </tr>\n",
              "    <tr>\n",
              "      <th>Potability</th>\n",
              "      <th></th>\n",
              "      <th></th>\n",
              "      <th></th>\n",
              "      <th></th>\n",
              "      <th></th>\n",
              "      <th></th>\n",
              "      <th></th>\n",
              "      <th></th>\n",
              "      <th></th>\n",
              "    </tr>\n",
              "  </thead>\n",
              "  <tbody>\n",
              "    <tr>\n",
              "      <th>0</th>\n",
              "      <td>1998</td>\n",
              "      <td>1998</td>\n",
              "      <td>1998</td>\n",
              "      <td>1998</td>\n",
              "      <td>1998</td>\n",
              "      <td>1998</td>\n",
              "      <td>1998</td>\n",
              "      <td>1998</td>\n",
              "      <td>1998</td>\n",
              "    </tr>\n",
              "    <tr>\n",
              "      <th>1</th>\n",
              "      <td>1278</td>\n",
              "      <td>1278</td>\n",
              "      <td>1278</td>\n",
              "      <td>1278</td>\n",
              "      <td>1278</td>\n",
              "      <td>1278</td>\n",
              "      <td>1278</td>\n",
              "      <td>1278</td>\n",
              "      <td>1278</td>\n",
              "    </tr>\n",
              "  </tbody>\n",
              "</table>\n",
              "</div>\n",
              "      <button class=\"colab-df-convert\" onclick=\"convertToInteractive('df-0b2f0578-e264-44d3-a0d7-10fbf7c1d02f')\"\n",
              "              title=\"Convert this dataframe to an interactive table.\"\n",
              "              style=\"display:none;\">\n",
              "        \n",
              "  <svg xmlns=\"http://www.w3.org/2000/svg\" height=\"24px\"viewBox=\"0 0 24 24\"\n",
              "       width=\"24px\">\n",
              "    <path d=\"M0 0h24v24H0V0z\" fill=\"none\"/>\n",
              "    <path d=\"M18.56 5.44l.94 2.06.94-2.06 2.06-.94-2.06-.94-.94-2.06-.94 2.06-2.06.94zm-11 1L8.5 8.5l.94-2.06 2.06-.94-2.06-.94L8.5 2.5l-.94 2.06-2.06.94zm10 10l.94 2.06.94-2.06 2.06-.94-2.06-.94-.94-2.06-.94 2.06-2.06.94z\"/><path d=\"M17.41 7.96l-1.37-1.37c-.4-.4-.92-.59-1.43-.59-.52 0-1.04.2-1.43.59L10.3 9.45l-7.72 7.72c-.78.78-.78 2.05 0 2.83L4 21.41c.39.39.9.59 1.41.59.51 0 1.02-.2 1.41-.59l7.78-7.78 2.81-2.81c.8-.78.8-2.07 0-2.86zM5.41 20L4 18.59l7.72-7.72 1.47 1.35L5.41 20z\"/>\n",
              "  </svg>\n",
              "      </button>\n",
              "      \n",
              "  <style>\n",
              "    .colab-df-container {\n",
              "      display:flex;\n",
              "      flex-wrap:wrap;\n",
              "      gap: 12px;\n",
              "    }\n",
              "\n",
              "    .colab-df-convert {\n",
              "      background-color: #E8F0FE;\n",
              "      border: none;\n",
              "      border-radius: 50%;\n",
              "      cursor: pointer;\n",
              "      display: none;\n",
              "      fill: #1967D2;\n",
              "      height: 32px;\n",
              "      padding: 0 0 0 0;\n",
              "      width: 32px;\n",
              "    }\n",
              "\n",
              "    .colab-df-convert:hover {\n",
              "      background-color: #E2EBFA;\n",
              "      box-shadow: 0px 1px 2px rgba(60, 64, 67, 0.3), 0px 1px 3px 1px rgba(60, 64, 67, 0.15);\n",
              "      fill: #174EA6;\n",
              "    }\n",
              "\n",
              "    [theme=dark] .colab-df-convert {\n",
              "      background-color: #3B4455;\n",
              "      fill: #D2E3FC;\n",
              "    }\n",
              "\n",
              "    [theme=dark] .colab-df-convert:hover {\n",
              "      background-color: #434B5C;\n",
              "      box-shadow: 0px 1px 3px 1px rgba(0, 0, 0, 0.15);\n",
              "      filter: drop-shadow(0px 1px 2px rgba(0, 0, 0, 0.3));\n",
              "      fill: #FFFFFF;\n",
              "    }\n",
              "  </style>\n",
              "\n",
              "      <script>\n",
              "        const buttonEl =\n",
              "          document.querySelector('#df-0b2f0578-e264-44d3-a0d7-10fbf7c1d02f button.colab-df-convert');\n",
              "        buttonEl.style.display =\n",
              "          google.colab.kernel.accessAllowed ? 'block' : 'none';\n",
              "\n",
              "        async function convertToInteractive(key) {\n",
              "          const element = document.querySelector('#df-0b2f0578-e264-44d3-a0d7-10fbf7c1d02f');\n",
              "          const dataTable =\n",
              "            await google.colab.kernel.invokeFunction('convertToInteractive',\n",
              "                                                     [key], {});\n",
              "          if (!dataTable) return;\n",
              "\n",
              "          const docLinkHtml = 'Like what you see? Visit the ' +\n",
              "            '<a target=\"_blank\" href=https://colab.research.google.com/notebooks/data_table.ipynb>data table notebook</a>'\n",
              "            + ' to learn more about interactive tables.';\n",
              "          element.innerHTML = '';\n",
              "          dataTable['output_type'] = 'display_data';\n",
              "          await google.colab.output.renderOutput(dataTable, element);\n",
              "          const docLink = document.createElement('div');\n",
              "          docLink.innerHTML = docLinkHtml;\n",
              "          element.appendChild(docLink);\n",
              "        }\n",
              "      </script>\n",
              "    </div>\n",
              "  </div>\n",
              "  "
            ]
          },
          "metadata": {},
          "execution_count": 3
        }
      ]
    },
    {
      "cell_type": "code",
      "source": [
        "kelas0 = 1998/3276\n",
        "print(\"Kelas 0 =\", \"{:.2f}\".format(kelas0*100), \"%\")\n",
        "\n",
        "kelas1= 1278/3276\n",
        "print(\"Kelas 1 =\", \"{:.2f}\".format(kelas1*100), \"%\")"
      ],
      "metadata": {
        "colab": {
          "base_uri": "https://localhost:8080/"
        },
        "id": "7OpLHjY_4BQQ",
        "outputId": "bbf7a3b8-0a07-4f43-f99c-0ef225660f5e"
      },
      "execution_count": null,
      "outputs": [
        {
          "output_type": "stream",
          "name": "stdout",
          "text": [
            "Kelas 0 = 60.99 %\n",
            "Kelas 1 = 39.01 %\n"
          ]
        }
      ]
    },
    {
      "cell_type": "markdown",
      "source": [
        "Data tidak seimbang sehingga dilakukan smote"
      ],
      "metadata": {
        "id": "SDgvlHja4PvD"
      }
    },
    {
      "cell_type": "code",
      "source": [
        "#SMOTE\n",
        "from imblearn.over_sampling import SMOTE\n",
        "X = df.iloc[:, 0:9]\n",
        "Y = df[\"Potability\"]\n",
        "\n",
        "x_resampled, y_resampled = SMOTE(random_state=105).fit_resample(X,Y)\n",
        "\n",
        "import numpy as np\n",
        "c0 = np.count_nonzero(y_resampled == 0)\n",
        "c1 = np.count_nonzero(y_resampled == 1)\n",
        "print(c0)\n",
        "print(c1)"
      ],
      "metadata": {
        "colab": {
          "base_uri": "https://localhost:8080/"
        },
        "id": "9yRHHlSj4TIj",
        "outputId": "975ba9e0-c5d1-45a8-cdc0-d279119de696"
      },
      "execution_count": null,
      "outputs": [
        {
          "output_type": "stream",
          "name": "stdout",
          "text": [
            "1998\n",
            "1998\n"
          ]
        }
      ]
    },
    {
      "cell_type": "code",
      "source": [
        "!pip install squarify\n",
        "import squarify\n",
        "import matplotlib.pyplot as plt\n",
        "%matplotlib inline\n",
        "import seaborn as sns\n",
        "\n",
        "x = [c0,c1]\n",
        "\n",
        "fig = plt.gcf()\n",
        "ax = fig.add_subplot()\n",
        "fig.set_size_inches(10, 5)\n",
        "squarify.plot(sizes=x, label=['Water Non Potability : 1998','Water Potability : 1998'])\n",
        "plt.title(\"Data Seimbang Antar Kelas 0 dan Kelas 1\",fontsize=18,fontweight=\"bold\")\n",
        "plt.axis('off')\n",
        "plt.show()\n"
      ],
      "metadata": {
        "colab": {
          "base_uri": "https://localhost:8080/",
          "height": 358
        },
        "id": "w937yXjMen1p",
        "outputId": "912c418f-7138-4db3-972e-b761574cea50"
      },
      "execution_count": null,
      "outputs": [
        {
          "output_type": "stream",
          "name": "stdout",
          "text": [
            "Looking in indexes: https://pypi.org/simple, https://us-python.pkg.dev/colab-wheels/public/simple/\n",
            "Requirement already satisfied: squarify in /usr/local/lib/python3.7/dist-packages (0.4.3)\n"
          ]
        },
        {
          "output_type": "display_data",
          "data": {
            "text/plain": [
              "<Figure size 720x360 with 1 Axes>"
            ],
            "image/png": "[encoded data removed]"
          },
          "metadata": {
            "needs_background": "light"
          }
        }
      ]
    },
    {
      "cell_type": "code",
      "source": [
        "#Normalisasi\n",
        "from sklearn.preprocessing import MinMaxScaler\n",
        "scaler = MinMaxScaler(feature_range=(0,1))\n",
        "rescaledX = scaler.fit_transform(x_resampled)"
      ],
      "metadata": {
        "id": "cUjKALCA4n4Z"
      },
      "execution_count": null,
      "outputs": []
    },
    {
      "cell_type": "code",
      "source": [
        "#Split Data\n",
        "from sklearn.model_selection import train_test_split\n",
        "x_train, x_test, y_train, y_test = train_test_split(rescaledX, y_resampled, test_size=0.2, random_state=105, \n",
        "                                                    stratify=y_resampled)"
      ],
      "metadata": {
        "id": "AxoTDvYx4tqi"
      },
      "execution_count": null,
      "outputs": []
    },
    {
      "cell_type": "markdown",
      "source": [
        "MODELING"
      ],
      "metadata": {
        "id": "g8qd8Z_o46mw"
      }
    },
    {
      "cell_type": "code",
      "source": [
        "# model\n",
        "from sklearn.svm import SVC\n",
        "model = SVC()\n",
        "model.fit(x_train, y_train)"
      ],
      "metadata": {
        "colab": {
          "base_uri": "https://localhost:8080/"
        },
        "id": "IwgQrtH54vvx",
        "outputId": "f2c4cfab-2bc4-4dfc-c1c8-2796d14c8f89"
      },
      "execution_count": null,
      "outputs": [
        {
          "output_type": "execute_result",
          "data": {
            "text/plain": [
              "SVC()"
            ]
          },
          "metadata": {},
          "execution_count": 24
        }
      ]
    },
    {
      "cell_type": "markdown",
      "source": [
        "AKURASI SEBELUM MEMAKAI METODE FORWARD SELECTION"
      ],
      "metadata": {
        "id": "p4yKSjre5SOg"
      }
    },
    {
      "cell_type": "code",
      "source": [
        "#Evaluasi klasifikasi Akurasi\n",
        "from sklearn.metrics import accuracy_score\n",
        "test_svm = model.predict(x_test)\n",
        "akurasi = accuracy_score(y_test, test_svm)\n",
        "print(\"Accuracy : \", akurasi)\n",
        "\n",
        "#Evaluasi klasifikasi precision\n",
        "from sklearn.metrics import precision_score\n",
        "print(\"Precision : \",precision_score(y_test,test_svm))\n",
        "\n",
        "#Evaluasi klasifikasi Recall\n",
        "from sklearn.metrics import recall_score\n",
        "print(\"Recall    : \", recall_score(y_test,test_svm))\n",
        "\n",
        "#confusion matrix\n",
        "from sklearn.metrics import confusion_matrix\n",
        "print(\"Confusion Matrix : \\n\", confusion_matrix(y_test, test_svm))"
      ],
      "metadata": {
        "colab": {
          "base_uri": "https://localhost:8080/"
        },
        "id": "aHDtwNzyOQyl",
        "outputId": "d3a39399-7a64-4b53-dea2-63c9322aaf42"
      },
      "execution_count": null,
      "outputs": [
        {
          "output_type": "stream",
          "name": "stdout",
          "text": [
            "Accuracy :  0.66625\n",
            "Precision :  0.6535796766743649\n",
            "Recall    :  0.7075\n",
            "Confusion Matrix : \n",
            " [[250 150]\n",
            " [117 283]]\n"
          ]
        }
      ]
    },
    {
      "cell_type": "markdown",
      "source": [
        "![image.png](data:image/png;base64,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)"
      ],
      "metadata": {
        "id": "MBbUHpOp-YJe"
      }
    },
    {
      "cell_type": "markdown",
      "source": [
        "##DENGAN METODE FORWARD SELECTION"
      ],
      "metadata": {
        "id": "IYl7Tkdl5q1p"
      }
    },
    {
      "cell_type": "code",
      "source": [
        "x_train = pd.DataFrame(x_train, columns = X.columns)\n",
        "x_test = pd.DataFrame(x_test, columns=X.columns)\n",
        "\n",
        "n = len(list(X))\n",
        "i=0\n",
        "feature_set = []\n",
        "\n",
        "for num_features in range(n):\n",
        "  i = i+1\n",
        "  print(\"iterasi =\", i)\n",
        "  metric_list = []\n",
        "  for feature in x_train.columns:\n",
        "    if feature not in feature_set:\n",
        "      f_set = feature_set.copy()\n",
        "      f_set.append(feature)\n",
        "      print(f_set)\n",
        "      model.fit(x_train[f_set], y_train)\n",
        "      uji = model.predict(x_test[f_set])\n",
        "      akurasi = accuracy_score(y_test, uji)\n",
        "      print(akurasi)\n",
        "      metric_list.append((akurasi, feature))\n",
        "\n",
        "  metric_list.sort(key=lambda x : x[0], reverse = True)\n",
        "  feature_set.append(metric_list[0][1])"
      ],
      "metadata": {
        "colab": {
          "base_uri": "https://localhost:8080/"
        },
        "id": "whK9vN_55uWA",
        "outputId": "de44560f-a688-4630-dd9f-61905614f020"
      },
      "execution_count": null,
      "outputs": [
        {
          "output_type": "stream",
          "name": "stdout",
          "text": [
            "iterasi = 1\n",
            "['ph']\n",
            "0.54375\n",
            "['Hardness']\n",
            "0.51875\n",
            "['Solids']\n",
            "0.50875\n",
            "['Chloramines']\n",
            "0.515\n",
            "['Sulfate']\n",
            "0.52125\n",
            "['Conductivity']\n",
            "0.49375\n",
            "['Organic_carbon']\n",
            "0.5375\n",
            "['Trihalomethanes']\n",
            "0.5225\n",
            "['Turbidity']\n",
            "0.48625\n",
            "iterasi = 2\n",
            "['ph', 'Hardness']\n",
            "0.58875\n",
            "['ph', 'Solids']\n",
            "0.55\n",
            "['ph', 'Chloramines']\n",
            "0.575\n",
            "['ph', 'Sulfate']\n",
            "0.57625\n",
            "['ph', 'Conductivity']\n",
            "0.54625\n",
            "['ph', 'Organic_carbon']\n",
            "0.5475\n",
            "['ph', 'Trihalomethanes']\n",
            "0.54375\n",
            "['ph', 'Turbidity']\n",
            "0.5275\n",
            "iterasi = 3\n",
            "['ph', 'Hardness', 'Solids']\n",
            "0.58375\n",
            "['ph', 'Hardness', 'Chloramines']\n",
            "0.5975\n",
            "['ph', 'Hardness', 'Sulfate']\n",
            "0.6275\n",
            "['ph', 'Hardness', 'Conductivity']\n",
            "0.56875\n",
            "['ph', 'Hardness', 'Organic_carbon']\n",
            "0.58375\n",
            "['ph', 'Hardness', 'Trihalomethanes']\n",
            "0.5775\n",
            "['ph', 'Hardness', 'Turbidity']\n",
            "0.55125\n",
            "iterasi = 4\n",
            "['ph', 'Hardness', 'Sulfate', 'Solids']\n",
            "0.6325\n",
            "['ph', 'Hardness', 'Sulfate', 'Chloramines']\n",
            "0.68625\n",
            "['ph', 'Hardness', 'Sulfate', 'Conductivity']\n",
            "0.64375\n",
            "['ph', 'Hardness', 'Sulfate', 'Organic_carbon']\n",
            "0.64\n",
            "['ph', 'Hardness', 'Sulfate', 'Trihalomethanes']\n",
            "0.63\n",
            "['ph', 'Hardness', 'Sulfate', 'Turbidity']\n",
            "0.61625\n",
            "iterasi = 5\n",
            "['ph', 'Hardness', 'Sulfate', 'Chloramines', 'Solids']\n",
            "0.6925\n",
            "['ph', 'Hardness', 'Sulfate', 'Chloramines', 'Conductivity']\n",
            "0.65375\n",
            "['ph', 'Hardness', 'Sulfate', 'Chloramines', 'Organic_carbon']\n",
            "0.6875\n",
            "['ph', 'Hardness', 'Sulfate', 'Chloramines', 'Trihalomethanes']\n",
            "0.66125\n",
            "['ph', 'Hardness', 'Sulfate', 'Chloramines', 'Turbidity']\n",
            "0.65375\n",
            "iterasi = 6\n",
            "['ph', 'Hardness', 'Sulfate', 'Chloramines', 'Solids', 'Conductivity']\n",
            "0.665\n",
            "['ph', 'Hardness', 'Sulfate', 'Chloramines', 'Solids', 'Organic_carbon']\n",
            "0.68375\n",
            "['ph', 'Hardness', 'Sulfate', 'Chloramines', 'Solids', 'Trihalomethanes']\n",
            "0.6625\n",
            "['ph', 'Hardness', 'Sulfate', 'Chloramines', 'Solids', 'Turbidity']\n",
            "0.635\n",
            "iterasi = 7\n",
            "['ph', 'Hardness', 'Sulfate', 'Chloramines', 'Solids', 'Organic_carbon', 'Conductivity']\n",
            "0.6625\n",
            "['ph', 'Hardness', 'Sulfate', 'Chloramines', 'Solids', 'Organic_carbon', 'Trihalomethanes']\n",
            "0.6625\n",
            "['ph', 'Hardness', 'Sulfate', 'Chloramines', 'Solids', 'Organic_carbon', 'Turbidity']\n",
            "0.64875\n",
            "iterasi = 8\n",
            "['ph', 'Hardness', 'Sulfate', 'Chloramines', 'Solids', 'Organic_carbon', 'Conductivity', 'Trihalomethanes']\n",
            "0.66625\n",
            "['ph', 'Hardness', 'Sulfate', 'Chloramines', 'Solids', 'Organic_carbon', 'Conductivity', 'Turbidity']\n",
            "0.655\n",
            "iterasi = 9\n",
            "['ph', 'Hardness', 'Sulfate', 'Chloramines', 'Solids', 'Organic_carbon', 'Conductivity', 'Trihalomethanes', 'Turbidity']\n",
            "0.66625\n"
          ]
        }
      ]
    },
    {
      "cell_type": "markdown",
      "source": [
        "##AKURASI TERTINGGI SAAT DENGAN FITUR ['ph', 'Hardness', 'Sulfate', 'Chloramines', 'Solids']\n",
        "\n",
        "## AKURASI = 0.6925"
      ],
      "metadata": {
        "id": "yb2r09x66H1-"
      }
    },
    {
      "cell_type": "code",
      "source": [
        "# akurasi setelah forward selection\n",
        "x_train_new = x_train[['ph', 'Hardness', 'Sulfate', 'Chloramines', 'Solids']]\n",
        "x_test_new = x_test[['ph', 'Hardness', 'Sulfate', 'Chloramines', 'Solids']]\n",
        "\n",
        "model.fit(x_train_new, y_train)\n",
        "test_svm_forward = model.predict(x_test_new)\n",
        "#Evaluasi klasifikasi Akurasi\n",
        "from sklearn.metrics import accuracy_score\n",
        "akurasi_forward = accuracy_score(y_test, test_svm_forward)\n",
        "print(\"Accuracy : \", akurasi_forward)\n",
        "\n",
        "#Evaluasi klasifikasi precision\n",
        "from sklearn.metrics import precision_score\n",
        "print(\"Precision : \",precision_score(y_test,test_svm_forward))\n",
        "\n",
        "#Evaluasi klasifikasi Recall\n",
        "from sklearn.metrics import recall_score\n",
        "print(\"Recall    : \", recall_score(y_test,test_svm_forward))\n",
        "\n",
        "#confusion matrix\n",
        "from sklearn.metrics import confusion_matrix\n",
        "print(\"Confusion Matrix : \\n\", confusion_matrix(y_test, test_svm_forward))"
      ],
      "metadata": {
        "colab": {
          "base_uri": "https://localhost:8080/"
        },
        "id": "pM0M2U4g_Afm",
        "outputId": "c47596da-0428-4ef0-ae3d-f50ca2e04ddc"
      },
      "execution_count": null,
      "outputs": [
        {
          "output_type": "stream",
          "name": "stdout",
          "text": [
            "Accuracy :  0.6925\n",
            "Precision :  0.6742081447963801\n",
            "Recall    :  0.745\n",
            "Confusion Matrix : \n",
            " [[256 144]\n",
            " [102 298]]\n"
          ]
        }
      ]
    },
    {
      "cell_type": "markdown",
      "source": [
        "Akurasi Per Kelas\n",
        "\n",
        "![akurasi_per_kelas.jpeg](data:image/jpeg;base64,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)"
      ],
      "metadata": {
        "id": "soIxVsna-kPC"
      }
    }
  ]
}